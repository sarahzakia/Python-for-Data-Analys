{
  "nbformat": 4,
  "nbformat_minor": 0,
  "metadata": {
    "colab": {
      "provenance": []
    },
    "kernelspec": {
      "name": "python3",
      "display_name": "Python 3"
    },
    "language_info": {
      "name": "python"
    }
  },
  "cells": [
    {
      "cell_type": "code",
      "execution_count": null,
      "metadata": {
        "colab": {
          "base_uri": "https://localhost:8080/"
        },
        "id": "BEuUI58HiZeg",
        "outputId": "d1e09a1b-d52e-4793-d4dc-72e798fe7437"
      },
      "outputs": [
        {
          "output_type": "stream",
          "name": "stdout",
          "text": [
            "124999750000\n",
            "249999500.0\n"
          ]
        }
      ],
      "source": [
        "#mencari angka ganjil mulai dari 1 sampai 1000. dimana jika x dibagi 2 maka angka tersebut genap\n",
        "#angka ganjil tersebut kemudian dipangkatkan 3\n",
        "#hasil pangkat keseluruhan angka dijumlah \n",
        "#menhitung rata - rata jumlah seluruh angka yg dipangkat dibagi dengan banyaknya angka ganjil\n",
        "odd=[x for x in range(1,1000) if x %2!=0]\n",
        "squares=[x**3 for x in odd]\n",
        "total=sum(squares)\n",
        "ratarata=total/len(squares)\n",
        "print(total)\n",
        "print(ratarata)"
      ]
    },
    {
      "cell_type": "code",
      "source": [
        "#mencari angka integer \n",
        "#dimana ketika angka yang dimasukkan kurang dari 100 maka akan keluar \"small value\"\n",
        "#jika angka yg dimasukkan lebih dari 100 maka akan keluar \"big value\"\n",
        "#jika angka yg dimasukkan 100 maka akan keluar \"average value\"\n",
        "a = int(input(\"masukan a= \"))\n",
        "if a<100: #conditional form\n",
        "    print('small value')\n",
        "elif a>100:\n",
        "    print('big value')\n",
        "else:\n",
        "    print('average value')"
      ],
      "metadata": {
        "colab": {
          "base_uri": "https://localhost:8080/"
        },
        "id": "cRLCwFgRidm3",
        "outputId": "c0696399-aaa9-4db3-dc94-022445a31b76"
      },
      "execution_count": null,
      "outputs": [
        {
          "output_type": "stream",
          "name": "stdout",
          "text": [
            "masukan a= 100\n",
            "average value\n"
          ]
        }
      ]
    },
    {
      "cell_type": "code",
      "source": [
        "#mencari case yg sama \n",
        "#while true digunakan untuk pengecekan kondisi terlebih dahulu, jika kondisi bernilai (true) benar maka akan terus berjalan\n",
        "while True:\n",
        "    a = int(input(\"masukan a= \"))\n",
        "    if a<100: #conditional form\n",
        "      print('small value')\n",
        "    elif a>100:\n",
        "      print(\"big value\")\n",
        "    else:\n",
        "      print('average value')\n",
        "      break"
      ],
      "metadata": {
        "id": "AOeCFRsnkHxI",
        "colab": {
          "base_uri": "https://localhost:8080/"
        },
        "outputId": "07383847-d963-43c0-ddf3-a0153c432f07"
      },
      "execution_count": null,
      "outputs": [
        {
          "output_type": "stream",
          "name": "stdout",
          "text": [
            "masukan a= 50\n",
            "small value\n",
            "masukan a= 150\n",
            "big value\n",
            "masukan a= 100\n",
            "average value\n"
          ]
        }
      ]
    },
    {
      "cell_type": "code",
      "source": [
        "#membuat sebuah password dimana : \n",
        "#password harus memiliki jumlah karakter minimal 5 atau lebih \n",
        "#mengandung angka '8'\n",
        "#mengandung huruf 'X'\n",
        "#mengandung '@'\n",
        "#dimana jika panjang password kurang dari 5 karakter maka akan keluar \"terlalu pendek\"\n",
        "#jika password tidak mengandung angka 8 maka akan keluar 'harus mnegandung 8'\n",
        "#jika password tidak mengandung huruf 'X' maka akan keluar \"harus mengandung X\"\n",
        "#jika password tidak mengandung @ maka akan keoluar \"harus mengandung @\"\n",
        "#jika password yang dibuat telah sesuai maka akan keluar \"valid\" \n",
        "pas= input(\"password= \")\n",
        "panjang=len(pas)>=5\n",
        "c7=\"7\" in pas\n",
        "cP= \"P\" in pas\n",
        "char=\"@\" in pas\n",
        "if panjang!=True:\n",
        "    print(\"terlalu pendek\")\n",
        "elif c7!=True:\n",
        "    print(\"harus mengandung 7\")\n",
        "elif cP!=True:\n",
        "    print(\"harus mengandng P\")\n",
        "elif char!=True:\n",
        "    print(\"harus mengandng @\")\n",
        "else:\n",
        "    print(\"password valid\")"
      ],
      "metadata": {
        "id": "R1YJkvz0ihQe",
        "colab": {
          "base_uri": "https://localhost:8080/"
        },
        "outputId": "c3644950-eb85-4060-c967-2a987b892cc7"
      },
      "execution_count": null,
      "outputs": [
        {
          "output_type": "stream",
          "name": "stdout",
          "text": [
            "password= @Pawal7\n",
            "password valid\n"
          ]
        }
      ]
    },
    {
      "cell_type": "code",
      "source": [
        "#mencari jumlah string yang sama dari list\n",
        "#memeriksa apakah indeks awal pada contoh_list sama dengan indeks akhir nya\n",
        "#jika sama makan akan bernilai satu \n",
        "count=0\n",
        "contoh_list=['aca', 'xyz', 'aba', '1221']\n",
        "for i in range(len(contoh_list)):\n",
        "    if(contoh_list[i][0] == contoh_list[i][-1]):\n",
        "      count+= 1\n",
        "print('jumlah string yg sama=',count)"
      ],
      "metadata": {
        "id": "f04GtS51jE6T",
        "colab": {
          "base_uri": "https://localhost:8080/"
        },
        "outputId": "64e68821-fea1-4782-ca4f-1be544aee8b2"
      },
      "execution_count": 1,
      "outputs": [
        {
          "output_type": "stream",
          "name": "stdout",
          "text": [
            "jumlah string yg sama= 3\n"
          ]
        }
      ]
    },
    {
      "cell_type": "code",
      "source": [
        "#mencari kata yg apabila dibalik tetap sama \n",
        "while True:\n",
        "    kata=input(\"masukan kata= \")\n",
        "    if kata == kata[::-1]:\n",
        "        print(\"string merupakan palidrom\")\n",
        "        break\n",
        "    else:\n",
        "        print(\"string bukan palidrom\")"
      ],
      "metadata": {
        "id": "8K9WFtaljH7c"
      },
      "execution_count": null,
      "outputs": []
    },
    {
      "cell_type": "code",
      "source": [
        "#menhitung jumlah huruf kapital dan huruf kecil \n",
        "def hitung(s):\n",
        "    d={'upper':0,'lower':0}\n",
        "    for x in s:\n",
        "        if x.isupper():\n",
        "            d['upper']+=1\n",
        "        elif x.islower():\n",
        "            d['lower']+=1\n",
        "    print('string kalimat:', s)\n",
        "    print('jumlah huruf kapital:',d['upper'])\n",
        "    print('jumlah huruf kecil',d['lower'])\n",
        "hitung('MIISAJbhjsah')"
      ],
      "metadata": {
        "id": "jrUnO29nj3nl",
        "colab": {
          "base_uri": "https://localhost:8080/"
        },
        "outputId": "d3b060a2-920c-40ce-972a-14c99e164e82"
      },
      "execution_count": null,
      "outputs": [
        {
          "output_type": "stream",
          "name": "stdout",
          "text": [
            "string kalimat: MIISAJbjshbsdj\n",
            "jumlah huruf kapital: 6\n",
            "jumlah huruf kecil 8\n"
          ]
        }
      ]
    },
    {
      "cell_type": "code",
      "source": [
        "#Kata ganjil\n",
        "list1=[\"jangan\",\"mudah\",\"menyerah\",\"ayo\",\"semangat\",\"studi\",\"independen\"]\n",
        "for i in list1:\n",
        "    if len(i)%2==1:\n",
        "        print(i,end=\" \")"
      ],
      "metadata": {
        "id": "R_8qBH1jj4Z8",
        "colab": {
          "base_uri": "https://localhost:8080/"
        },
        "outputId": "60ccda68-0738-4d37-da1c-01826944dbae"
      },
      "execution_count": 2,
      "outputs": [
        {
          "output_type": "stream",
          "name": "stdout",
          "text": [
            "mudah ayo studi "
          ]
        }
      ]
    },
    {
      "cell_type": "code",
      "source": [
        "#kata genap\n",
        "list1=[\"kampus\",\"merdeka\",\"studi\",\"independen\",\"bersama\",\"celerates\"]\n",
        "for i in list1:\n",
        "    if len(i)%2==0:\n",
        "        print(i,end=\" \")"
      ],
      "metadata": {
        "id": "lqvqKTV7j8e3",
        "colab": {
          "base_uri": "https://localhost:8080/"
        },
        "outputId": "498a4c34-a3ed-4d3a-92a8-698a98a7b17c"
      },
      "execution_count": 3,
      "outputs": [
        {
          "output_type": "stream",
          "name": "stdout",
          "text": [
            "kamous independen "
          ]
        }
      ]
    }
  ]
}